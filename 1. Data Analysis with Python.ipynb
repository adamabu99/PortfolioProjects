{
 "cells": [
  {
   "cell_type": "code",
   "execution_count": 7,
   "id": "8655ce92",
   "metadata": {},
   "outputs": [],
   "source": [
    "import pandas as pd\n",
    "import numpy as np\n",
    "import matplotlib.pyplot as plt"
   ]
  },
  {
   "cell_type": "code",
   "execution_count": 16,
   "id": "225f62cf",
   "metadata": {},
   "outputs": [],
   "source": [
    "df = pd.read_csv(\"crypto.csv\")"
   ]
  },
  {
   "cell_type": "code",
   "execution_count": 17,
   "id": "d3f655f5",
   "metadata": {},
   "outputs": [
    {
     "data": {
      "text/html": [
       "<div>\n",
       "<style scoped>\n",
       "    .dataframe tbody tr th:only-of-type {\n",
       "        vertical-align: middle;\n",
       "    }\n",
       "\n",
       "    .dataframe tbody tr th {\n",
       "        vertical-align: top;\n",
       "    }\n",
       "\n",
       "    .dataframe thead th {\n",
       "        text-align: right;\n",
       "    }\n",
       "</style>\n",
       "<table border=\"1\" class=\"dataframe\">\n",
       "  <thead>\n",
       "    <tr style=\"text-align: right;\">\n",
       "      <th></th>\n",
       "      <th>BTC-USD Price</th>\n",
       "    </tr>\n",
       "  </thead>\n",
       "  <tbody>\n",
       "    <tr>\n",
       "      <th>0</th>\n",
       "      <td>457.334015</td>\n",
       "    </tr>\n",
       "    <tr>\n",
       "      <th>1</th>\n",
       "      <td>424.440002</td>\n",
       "    </tr>\n",
       "    <tr>\n",
       "      <th>2</th>\n",
       "      <td>394.795990</td>\n",
       "    </tr>\n",
       "    <tr>\n",
       "      <th>3</th>\n",
       "      <td>408.903992</td>\n",
       "    </tr>\n",
       "    <tr>\n",
       "      <th>4</th>\n",
       "      <td>398.821014</td>\n",
       "    </tr>\n",
       "  </tbody>\n",
       "</table>\n",
       "</div>"
      ],
      "text/plain": [
       "   BTC-USD Price\n",
       "0     457.334015\n",
       "1     424.440002\n",
       "2     394.795990\n",
       "3     408.903992\n",
       "4     398.821014"
      ]
     },
     "execution_count": 17,
     "metadata": {},
     "output_type": "execute_result"
    }
   ],
   "source": [
    "df.head()"
   ]
  },
  {
   "cell_type": "code",
   "execution_count": 10,
   "id": "d0867462",
   "metadata": {},
   "outputs": [
    {
     "data": {
      "text/plain": [
       "(2385, 1)"
      ]
     },
     "execution_count": 10,
     "metadata": {},
     "output_type": "execute_result"
    }
   ],
   "source": [
    "df.shape"
   ]
  },
  {
   "cell_type": "code",
   "execution_count": 11,
   "id": "e13719d7",
   "metadata": {},
   "outputs": [],
   "source": [
    "crypto_list = ['BTC', 'USDT', 'BUSD', 'ETH', 'XRP']"
   ]
  },
  {
   "cell_type": "code",
   "execution_count": 12,
   "id": "8b410c70",
   "metadata": {},
   "outputs": [
    {
     "data": {
      "text/plain": [
       "list"
      ]
     },
     "execution_count": 12,
     "metadata": {},
     "output_type": "execute_result"
    }
   ],
   "source": [
    "type(crypto_list)"
   ]
  },
  {
   "cell_type": "code",
   "execution_count": 14,
   "id": "c31e0bee",
   "metadata": {},
   "outputs": [],
   "source": [
    "crypto_series = pd.Series(data = crypto_list)"
   ]
  },
  {
   "cell_type": "code",
   "execution_count": 16,
   "id": "94ef32b3",
   "metadata": {},
   "outputs": [
    {
     "data": {
      "text/plain": [
       "0     BTC\n",
       "1    USDT\n",
       "2    BUSD\n",
       "3     ETH\n",
       "4     XRP\n",
       "dtype: object"
      ]
     },
     "execution_count": 16,
     "metadata": {},
     "output_type": "execute_result"
    }
   ],
   "source": [
    "crypto_series"
   ]
  },
  {
   "cell_type": "code",
   "execution_count": 18,
   "id": "6e5dfbba",
   "metadata": {},
   "outputs": [
    {
     "data": {
      "text/plain": [
       "pandas.core.series.Series"
      ]
     },
     "execution_count": 18,
     "metadata": {},
     "output_type": "execute_result"
    }
   ],
   "source": [
    "type(crypto_series)"
   ]
  },
  {
   "cell_type": "markdown",
   "id": "f3903d1b",
   "metadata": {},
   "source": [
    "##TASK 2\n",
    "## Define a pandas series with custom index"
   ]
  },
  {
   "cell_type": "code",
   "execution_count": 23,
   "id": "fa5a504f",
   "metadata": {},
   "outputs": [
    {
     "data": {
      "text/plain": [
       "['BTC', 'USDT', 'BUSD', 'ETH', 'XRP']"
      ]
     },
     "execution_count": 23,
     "metadata": {},
     "output_type": "execute_result"
    }
   ],
   "source": [
    "crypto_list"
   ]
  },
  {
   "cell_type": "code",
   "execution_count": 24,
   "id": "c96c5e5d",
   "metadata": {},
   "outputs": [],
   "source": [
    "crypto_labels = ['crypto#1','crypto#2', 'crypro#3', 'crypto#4', 'crypto#5']"
   ]
  },
  {
   "cell_type": "code",
   "execution_count": 27,
   "id": "b92d473b",
   "metadata": {},
   "outputs": [],
   "source": [
    "crypto_series = pd.Series(data=crypto_list, index= crypto_labels)"
   ]
  },
  {
   "cell_type": "code",
   "execution_count": 28,
   "id": "ae4d702f",
   "metadata": {},
   "outputs": [
    {
     "data": {
      "text/plain": [
       "crypto#1     BTC\n",
       "crypto#2    USDT\n",
       "crypro#3    BUSD\n",
       "crypto#4     ETH\n",
       "crypto#5     XRP\n",
       "dtype: object"
      ]
     },
     "execution_count": 28,
     "metadata": {},
     "output_type": "execute_result"
    }
   ],
   "source": [
    "crypto_series"
   ]
  },
  {
   "cell_type": "markdown",
   "id": "14e3e611",
   "metadata": {},
   "source": [
    "Define a Pandas Series from a dictionary"
   ]
  },
  {
   "cell_type": "code",
   "execution_count": 29,
   "id": "478f194e",
   "metadata": {},
   "outputs": [],
   "source": [
    "my_dict ={'Employee ID': 1,\n",
    "         'Employee Name': 'Steve',\n",
    "         'Salary($)': 500000,\n",
    "         'Years with Company': 10}"
   ]
  },
  {
   "cell_type": "code",
   "execution_count": 31,
   "id": "df805aad",
   "metadata": {},
   "outputs": [
    {
     "data": {
      "text/plain": [
       "dict"
      ]
     },
     "execution_count": 31,
     "metadata": {},
     "output_type": "execute_result"
    }
   ],
   "source": [
    "type(my_dict)"
   ]
  },
  {
   "cell_type": "code",
   "execution_count": 32,
   "id": "cb26f4ba",
   "metadata": {},
   "outputs": [],
   "source": [
    "employee_series = pd.Series(data=my_dict)"
   ]
  },
  {
   "cell_type": "code",
   "execution_count": 34,
   "id": "2c28dac8",
   "metadata": {},
   "outputs": [
    {
     "data": {
      "text/plain": [
       "Employee ID                1\n",
       "Employee Name          Steve\n",
       "Salary($)             500000\n",
       "Years with Company        10\n",
       "dtype: object"
      ]
     },
     "execution_count": 34,
     "metadata": {},
     "output_type": "execute_result"
    }
   ],
   "source": [
    "employee_series"
   ]
  },
  {
   "cell_type": "markdown",
   "id": "ed0124ef",
   "metadata": {},
   "source": [
    "PANDAS ATTRIBUTES"
   ]
  },
  {
   "cell_type": "code",
   "execution_count": 35,
   "id": "32305b90",
   "metadata": {},
   "outputs": [
    {
     "data": {
      "text/plain": [
       "['BTC', 'USDT', 'BUSD', 'ETH', 'XRP']"
      ]
     },
     "execution_count": 35,
     "metadata": {},
     "output_type": "execute_result"
    }
   ],
   "source": [
    "crypto_list "
   ]
  },
  {
   "cell_type": "code",
   "execution_count": 36,
   "id": "b8f08118",
   "metadata": {},
   "outputs": [
    {
     "data": {
      "text/plain": [
       "crypto#1     BTC\n",
       "crypto#2    USDT\n",
       "crypro#3    BUSD\n",
       "crypto#4     ETH\n",
       "crypto#5     XRP\n",
       "dtype: object"
      ]
     },
     "execution_count": 36,
     "metadata": {},
     "output_type": "execute_result"
    }
   ],
   "source": [
    "crypto_series"
   ]
  },
  {
   "cell_type": "code",
   "execution_count": 37,
   "id": "1c625f84",
   "metadata": {},
   "outputs": [],
   "source": [
    "crypto_series = pd.Series(data= crypto_list)"
   ]
  },
  {
   "cell_type": "code",
   "execution_count": 38,
   "id": "7d69c39d",
   "metadata": {},
   "outputs": [
    {
     "data": {
      "text/plain": [
       "0     BTC\n",
       "1    USDT\n",
       "2    BUSD\n",
       "3     ETH\n",
       "4     XRP\n",
       "dtype: object"
      ]
     },
     "execution_count": 38,
     "metadata": {},
     "output_type": "execute_result"
    }
   ],
   "source": [
    "crypto_series"
   ]
  },
  {
   "cell_type": "code",
   "execution_count": 41,
   "id": "b3e82e20",
   "metadata": {},
   "outputs": [
    {
     "data": {
      "text/plain": [
       "array(['BTC', 'USDT', 'BUSD', 'ETH', 'XRP'], dtype=object)"
      ]
     },
     "execution_count": 41,
     "metadata": {},
     "output_type": "execute_result"
    }
   ],
   "source": [
    "crypto_series.values"
   ]
  },
  {
   "cell_type": "code",
   "execution_count": 42,
   "id": "68d33268",
   "metadata": {},
   "outputs": [
    {
     "data": {
      "text/plain": [
       "RangeIndex(start=0, stop=5, step=1)"
      ]
     },
     "execution_count": 42,
     "metadata": {},
     "output_type": "execute_result"
    }
   ],
   "source": [
    "crypto_series.index"
   ]
  },
  {
   "cell_type": "code",
   "execution_count": 43,
   "id": "9a370a18",
   "metadata": {},
   "outputs": [
    {
     "data": {
      "text/plain": [
       "dtype('O')"
      ]
     },
     "execution_count": 43,
     "metadata": {},
     "output_type": "execute_result"
    }
   ],
   "source": [
    "crypto_series.dtype"
   ]
  },
  {
   "cell_type": "code",
   "execution_count": 44,
   "id": "24fc7569",
   "metadata": {},
   "outputs": [
    {
     "data": {
      "text/plain": [
       "True"
      ]
     },
     "execution_count": 44,
     "metadata": {},
     "output_type": "execute_result"
    }
   ],
   "source": [
    "crypto_series.is_unique"
   ]
  },
  {
   "cell_type": "code",
   "execution_count": 45,
   "id": "6ae1f677",
   "metadata": {},
   "outputs": [
    {
     "data": {
      "text/plain": [
       "(5,)"
      ]
     },
     "execution_count": 45,
     "metadata": {},
     "output_type": "execute_result"
    }
   ],
   "source": [
    "crypto_series.shape"
   ]
  },
  {
   "cell_type": "markdown",
   "id": "3e6e88db",
   "metadata": {},
   "source": [
    "Pandas Methods"
   ]
  },
  {
   "cell_type": "code",
   "execution_count": 19,
   "id": "1767b8ad",
   "metadata": {},
   "outputs": [],
   "source": [
    "crypto_prices = [30,45,67,78,89]"
   ]
  },
  {
   "cell_type": "code",
   "execution_count": 20,
   "id": "7b22befe",
   "metadata": {},
   "outputs": [],
   "source": [
    "crypto_prices_series = pd.Series(data= crypto_prices)"
   ]
  },
  {
   "cell_type": "code",
   "execution_count": 21,
   "id": "f3cbb69f",
   "metadata": {},
   "outputs": [
    {
     "data": {
      "text/plain": [
       "0    30\n",
       "1    45\n",
       "2    67\n",
       "3    78\n",
       "4    89\n",
       "dtype: int64"
      ]
     },
     "execution_count": 21,
     "metadata": {},
     "output_type": "execute_result"
    }
   ],
   "source": [
    "crypto_prices_series"
   ]
  },
  {
   "cell_type": "code",
   "execution_count": 22,
   "id": "b3ae0748",
   "metadata": {},
   "outputs": [
    {
     "data": {
      "text/plain": [
       "309"
      ]
     },
     "execution_count": 22,
     "metadata": {},
     "output_type": "execute_result"
    }
   ],
   "source": [
    "crypto_prices_series.sum()"
   ]
  },
  {
   "cell_type": "code",
   "execution_count": 23,
   "id": "eba88eaa",
   "metadata": {},
   "outputs": [
    {
     "data": {
      "text/plain": [
       "627903900"
      ]
     },
     "execution_count": 23,
     "metadata": {},
     "output_type": "execute_result"
    }
   ],
   "source": [
    "crypto_prices_series.product()"
   ]
  },
  {
   "cell_type": "code",
   "execution_count": 24,
   "id": "92730675",
   "metadata": {},
   "outputs": [
    {
     "data": {
      "text/plain": [
       "61.8"
      ]
     },
     "execution_count": 24,
     "metadata": {},
     "output_type": "execute_result"
    }
   ],
   "source": [
    "crypto_prices_series.mean()"
   ]
  },
  {
   "cell_type": "code",
   "execution_count": 25,
   "id": "8e55d473",
   "metadata": {},
   "outputs": [
    {
     "data": {
      "text/plain": [
       "0    30\n",
       "1    45\n",
       "dtype: int64"
      ]
     },
     "execution_count": 25,
     "metadata": {},
     "output_type": "execute_result"
    }
   ],
   "source": [
    "crypto_prices_series.head(2)"
   ]
  },
  {
   "cell_type": "markdown",
   "id": "00d545f4",
   "metadata": {},
   "source": [
    "PANDAS BUILT-IN FUNCTIONS"
   ]
  },
  {
   "cell_type": "code",
   "execution_count": 26,
   "id": "d0d12f37",
   "metadata": {},
   "outputs": [
    {
     "data": {
      "text/plain": [
       "0    30\n",
       "1    45\n",
       "2    67\n",
       "3    78\n",
       "4    89\n",
       "dtype: int64"
      ]
     },
     "execution_count": 26,
     "metadata": {},
     "output_type": "execute_result"
    }
   ],
   "source": [
    "crypto_prices_series"
   ]
  },
  {
   "cell_type": "code",
   "execution_count": 27,
   "id": "5a8e57d0",
   "metadata": {},
   "outputs": [
    {
     "data": {
      "text/plain": [
       "dtype('int64')"
      ]
     },
     "execution_count": 27,
     "metadata": {},
     "output_type": "execute_result"
    }
   ],
   "source": [
    "crypto_prices_series.dtypes"
   ]
  },
  {
   "cell_type": "code",
   "execution_count": 30,
   "id": "cfff5099",
   "metadata": {},
   "outputs": [
    {
     "data": {
      "text/html": [
       "<div>\n",
       "<style scoped>\n",
       "    .dataframe tbody tr th:only-of-type {\n",
       "        vertical-align: middle;\n",
       "    }\n",
       "\n",
       "    .dataframe tbody tr th {\n",
       "        vertical-align: top;\n",
       "    }\n",
       "\n",
       "    .dataframe thead th {\n",
       "        text-align: right;\n",
       "    }\n",
       "</style>\n",
       "<table border=\"1\" class=\"dataframe\">\n",
       "  <thead>\n",
       "    <tr style=\"text-align: right;\">\n",
       "      <th></th>\n",
       "      <th>BTC-USD Price</th>\n",
       "    </tr>\n",
       "  </thead>\n",
       "  <tbody>\n",
       "    <tr>\n",
       "      <th>0</th>\n",
       "      <td>457.334015</td>\n",
       "    </tr>\n",
       "    <tr>\n",
       "      <th>1</th>\n",
       "      <td>424.440002</td>\n",
       "    </tr>\n",
       "    <tr>\n",
       "      <th>2</th>\n",
       "      <td>394.795990</td>\n",
       "    </tr>\n",
       "    <tr>\n",
       "      <th>3</th>\n",
       "      <td>408.903992</td>\n",
       "    </tr>\n",
       "    <tr>\n",
       "      <th>4</th>\n",
       "      <td>398.821014</td>\n",
       "    </tr>\n",
       "    <tr>\n",
       "      <th>...</th>\n",
       "      <td>...</td>\n",
       "    </tr>\n",
       "    <tr>\n",
       "      <th>2380</th>\n",
       "      <td>55950.746090</td>\n",
       "    </tr>\n",
       "    <tr>\n",
       "      <th>2381</th>\n",
       "      <td>57750.199220</td>\n",
       "    </tr>\n",
       "    <tr>\n",
       "      <th>2382</th>\n",
       "      <td>58917.691410</td>\n",
       "    </tr>\n",
       "    <tr>\n",
       "      <th>2383</th>\n",
       "      <td>58918.832030</td>\n",
       "    </tr>\n",
       "    <tr>\n",
       "      <th>2384</th>\n",
       "      <td>59095.808590</td>\n",
       "    </tr>\n",
       "  </tbody>\n",
       "</table>\n",
       "<p>2385 rows × 1 columns</p>\n",
       "</div>"
      ],
      "text/plain": [
       "      BTC-USD Price\n",
       "0        457.334015\n",
       "1        424.440002\n",
       "2        394.795990\n",
       "3        408.903992\n",
       "4        398.821014\n",
       "...             ...\n",
       "2380   55950.746090\n",
       "2381   57750.199220\n",
       "2382   58917.691410\n",
       "2383   58918.832030\n",
       "2384   59095.808590\n",
       "\n",
       "[2385 rows x 1 columns]"
      ]
     },
     "execution_count": 30,
     "metadata": {},
     "output_type": "execute_result"
    }
   ],
   "source": [
    "df"
   ]
  },
  {
   "cell_type": "code",
   "execution_count": 32,
   "id": "4fd283eb",
   "metadata": {},
   "outputs": [
    {
     "data": {
      "text/plain": [
       "BTC-USD Price    float64\n",
       "dtype: object"
      ]
     },
     "execution_count": 32,
     "metadata": {},
     "output_type": "execute_result"
    }
   ],
   "source": [
    "df.dtypes"
   ]
  },
  {
   "cell_type": "code",
   "execution_count": 40,
   "id": "391a49e7",
   "metadata": {},
   "outputs": [
    {
     "data": {
      "text/plain": [
       "BTC-USD Price    178.102997\n",
       "dtype: float64"
      ]
     },
     "execution_count": 40,
     "metadata": {},
     "output_type": "execute_result"
    }
   ],
   "source": [
    "df.min()"
   ]
  },
  {
   "cell_type": "code",
   "execution_count": 35,
   "id": "555fe064",
   "metadata": {},
   "outputs": [
    {
     "data": {
      "text/plain": [
       "BTC-USD Price    61243.08594\n",
       "dtype: float64"
      ]
     },
     "execution_count": 35,
     "metadata": {},
     "output_type": "execute_result"
    }
   ],
   "source": [
    "df.max()"
   ]
  },
  {
   "cell_type": "code",
   "execution_count": 41,
   "id": "7c9884a0",
   "metadata": {},
   "outputs": [
    {
     "data": {
      "text/plain": [
       "2385"
      ]
     },
     "execution_count": 41,
     "metadata": {},
     "output_type": "execute_result"
    }
   ],
   "source": [
    "len(df)"
   ]
  },
  {
   "cell_type": "markdown",
   "id": "92043864",
   "metadata": {},
   "source": [
    "Sorting Pandas Series"
   ]
  },
  {
   "cell_type": "code",
   "execution_count": 42,
   "id": "6e6d6188",
   "metadata": {},
   "outputs": [
    {
     "data": {
      "text/html": [
       "<div>\n",
       "<style scoped>\n",
       "    .dataframe tbody tr th:only-of-type {\n",
       "        vertical-align: middle;\n",
       "    }\n",
       "\n",
       "    .dataframe tbody tr th {\n",
       "        vertical-align: top;\n",
       "    }\n",
       "\n",
       "    .dataframe thead th {\n",
       "        text-align: right;\n",
       "    }\n",
       "</style>\n",
       "<table border=\"1\" class=\"dataframe\">\n",
       "  <thead>\n",
       "    <tr style=\"text-align: right;\">\n",
       "      <th></th>\n",
       "      <th>BTC-USD Price</th>\n",
       "    </tr>\n",
       "  </thead>\n",
       "  <tbody>\n",
       "    <tr>\n",
       "      <th>0</th>\n",
       "      <td>457.334015</td>\n",
       "    </tr>\n",
       "    <tr>\n",
       "      <th>1</th>\n",
       "      <td>424.440002</td>\n",
       "    </tr>\n",
       "    <tr>\n",
       "      <th>2</th>\n",
       "      <td>394.795990</td>\n",
       "    </tr>\n",
       "    <tr>\n",
       "      <th>3</th>\n",
       "      <td>408.903992</td>\n",
       "    </tr>\n",
       "    <tr>\n",
       "      <th>4</th>\n",
       "      <td>398.821014</td>\n",
       "    </tr>\n",
       "    <tr>\n",
       "      <th>...</th>\n",
       "      <td>...</td>\n",
       "    </tr>\n",
       "    <tr>\n",
       "      <th>2380</th>\n",
       "      <td>55950.746090</td>\n",
       "    </tr>\n",
       "    <tr>\n",
       "      <th>2381</th>\n",
       "      <td>57750.199220</td>\n",
       "    </tr>\n",
       "    <tr>\n",
       "      <th>2382</th>\n",
       "      <td>58917.691410</td>\n",
       "    </tr>\n",
       "    <tr>\n",
       "      <th>2383</th>\n",
       "      <td>58918.832030</td>\n",
       "    </tr>\n",
       "    <tr>\n",
       "      <th>2384</th>\n",
       "      <td>59095.808590</td>\n",
       "    </tr>\n",
       "  </tbody>\n",
       "</table>\n",
       "<p>2385 rows × 1 columns</p>\n",
       "</div>"
      ],
      "text/plain": [
       "      BTC-USD Price\n",
       "0        457.334015\n",
       "1        424.440002\n",
       "2        394.795990\n",
       "3        408.903992\n",
       "4        398.821014\n",
       "...             ...\n",
       "2380   55950.746090\n",
       "2381   57750.199220\n",
       "2382   58917.691410\n",
       "2383   58918.832030\n",
       "2384   59095.808590\n",
       "\n",
       "[2385 rows x 1 columns]"
      ]
     },
     "execution_count": 42,
     "metadata": {},
     "output_type": "execute_result"
    }
   ],
   "source": [
    "df\n"
   ]
  },
  {
   "cell_type": "code",
   "execution_count": 46,
   "id": "7f65cb68",
   "metadata": {},
   "outputs": [
    {
     "data": {
      "text/plain": [
       "<bound method DataFrame.sort_values of       BTC-USD Price\n",
       "0        457.334015\n",
       "1        424.440002\n",
       "2        394.795990\n",
       "3        408.903992\n",
       "4        398.821014\n",
       "...             ...\n",
       "2380   55950.746090\n",
       "2381   57750.199220\n",
       "2382   58917.691410\n",
       "2383   58918.832030\n",
       "2384   59095.808590\n",
       "\n",
       "[2385 rows x 1 columns]>"
      ]
     },
     "execution_count": 46,
     "metadata": {},
     "output_type": "execute_result"
    }
   ],
   "source": [
    "df.sort_values"
   ]
  },
  {
   "cell_type": "code",
   "execution_count": 47,
   "id": "d4d15f83",
   "metadata": {},
   "outputs": [
    {
     "data": {
      "text/html": [
       "<div>\n",
       "<style scoped>\n",
       "    .dataframe tbody tr th:only-of-type {\n",
       "        vertical-align: middle;\n",
       "    }\n",
       "\n",
       "    .dataframe tbody tr th {\n",
       "        vertical-align: top;\n",
       "    }\n",
       "\n",
       "    .dataframe thead th {\n",
       "        text-align: right;\n",
       "    }\n",
       "</style>\n",
       "<table border=\"1\" class=\"dataframe\">\n",
       "  <thead>\n",
       "    <tr style=\"text-align: right;\">\n",
       "      <th></th>\n",
       "      <th>BTC-USD Price</th>\n",
       "    </tr>\n",
       "  </thead>\n",
       "  <tbody>\n",
       "    <tr>\n",
       "      <th>0</th>\n",
       "      <td>457.334015</td>\n",
       "    </tr>\n",
       "    <tr>\n",
       "      <th>1</th>\n",
       "      <td>424.440002</td>\n",
       "    </tr>\n",
       "    <tr>\n",
       "      <th>2</th>\n",
       "      <td>394.795990</td>\n",
       "    </tr>\n",
       "    <tr>\n",
       "      <th>3</th>\n",
       "      <td>408.903992</td>\n",
       "    </tr>\n",
       "    <tr>\n",
       "      <th>4</th>\n",
       "      <td>398.821014</td>\n",
       "    </tr>\n",
       "    <tr>\n",
       "      <th>...</th>\n",
       "      <td>...</td>\n",
       "    </tr>\n",
       "    <tr>\n",
       "      <th>2380</th>\n",
       "      <td>55950.746090</td>\n",
       "    </tr>\n",
       "    <tr>\n",
       "      <th>2381</th>\n",
       "      <td>57750.199220</td>\n",
       "    </tr>\n",
       "    <tr>\n",
       "      <th>2382</th>\n",
       "      <td>58917.691410</td>\n",
       "    </tr>\n",
       "    <tr>\n",
       "      <th>2383</th>\n",
       "      <td>58918.832030</td>\n",
       "    </tr>\n",
       "    <tr>\n",
       "      <th>2384</th>\n",
       "      <td>59095.808590</td>\n",
       "    </tr>\n",
       "  </tbody>\n",
       "</table>\n",
       "<p>2385 rows × 1 columns</p>\n",
       "</div>"
      ],
      "text/plain": [
       "      BTC-USD Price\n",
       "0        457.334015\n",
       "1        424.440002\n",
       "2        394.795990\n",
       "3        408.903992\n",
       "4        398.821014\n",
       "...             ...\n",
       "2380   55950.746090\n",
       "2381   57750.199220\n",
       "2382   58917.691410\n",
       "2383   58918.832030\n",
       "2384   59095.808590\n",
       "\n",
       "[2385 rows x 1 columns]"
      ]
     },
     "execution_count": 47,
     "metadata": {},
     "output_type": "execute_result"
    }
   ],
   "source": [
    "df"
   ]
  },
  {
   "cell_type": "code",
   "execution_count": 50,
   "id": "c80d581e",
   "metadata": {},
   "outputs": [
    {
     "data": {
      "text/html": [
       "<div>\n",
       "<style scoped>\n",
       "    .dataframe tbody tr th:only-of-type {\n",
       "        vertical-align: middle;\n",
       "    }\n",
       "\n",
       "    .dataframe tbody tr th {\n",
       "        vertical-align: top;\n",
       "    }\n",
       "\n",
       "    .dataframe thead th {\n",
       "        text-align: right;\n",
       "    }\n",
       "</style>\n",
       "<table border=\"1\" class=\"dataframe\">\n",
       "  <thead>\n",
       "    <tr style=\"text-align: right;\">\n",
       "      <th></th>\n",
       "      <th>BTC-USD Price</th>\n",
       "    </tr>\n",
       "  </thead>\n",
       "  <tbody>\n",
       "    <tr>\n",
       "      <th>119</th>\n",
       "      <td>178.102997</td>\n",
       "    </tr>\n",
       "    <tr>\n",
       "      <th>122</th>\n",
       "      <td>199.259995</td>\n",
       "    </tr>\n",
       "    <tr>\n",
       "      <th>121</th>\n",
       "      <td>208.097000</td>\n",
       "    </tr>\n",
       "    <tr>\n",
       "      <th>120</th>\n",
       "      <td>209.843994</td>\n",
       "    </tr>\n",
       "    <tr>\n",
       "      <th>123</th>\n",
       "      <td>210.339004</td>\n",
       "    </tr>\n",
       "    <tr>\n",
       "      <th>...</th>\n",
       "      <td>...</td>\n",
       "    </tr>\n",
       "    <tr>\n",
       "      <th>2382</th>\n",
       "      <td>58917.691410</td>\n",
       "    </tr>\n",
       "    <tr>\n",
       "      <th>2383</th>\n",
       "      <td>58918.832030</td>\n",
       "    </tr>\n",
       "    <tr>\n",
       "      <th>2384</th>\n",
       "      <td>59095.808590</td>\n",
       "    </tr>\n",
       "    <tr>\n",
       "      <th>2366</th>\n",
       "      <td>59302.316410</td>\n",
       "    </tr>\n",
       "    <tr>\n",
       "      <th>2365</th>\n",
       "      <td>61243.085940</td>\n",
       "    </tr>\n",
       "  </tbody>\n",
       "</table>\n",
       "<p>2385 rows × 1 columns</p>\n",
       "</div>"
      ],
      "text/plain": [
       "      BTC-USD Price\n",
       "119      178.102997\n",
       "122      199.259995\n",
       "121      208.097000\n",
       "120      209.843994\n",
       "123      210.339004\n",
       "...             ...\n",
       "2382   58917.691410\n",
       "2383   58918.832030\n",
       "2384   59095.808590\n",
       "2366   59302.316410\n",
       "2365   61243.085940\n",
       "\n",
       "[2385 rows x 1 columns]"
      ]
     },
     "execution_count": 50,
     "metadata": {},
     "output_type": "execute_result"
    }
   ],
   "source": [
    "df.sort_values(by=\"BTC-USD Price\")"
   ]
  },
  {
   "cell_type": "code",
   "execution_count": 51,
   "id": "04ad56c0",
   "metadata": {},
   "outputs": [],
   "source": [
    "df.sort_values(by=\"BTC-USD Price\", ascending = False, inplace= True)"
   ]
  },
  {
   "cell_type": "code",
   "execution_count": 52,
   "id": "354f4d3b",
   "metadata": {},
   "outputs": [
    {
     "data": {
      "text/html": [
       "<div>\n",
       "<style scoped>\n",
       "    .dataframe tbody tr th:only-of-type {\n",
       "        vertical-align: middle;\n",
       "    }\n",
       "\n",
       "    .dataframe tbody tr th {\n",
       "        vertical-align: top;\n",
       "    }\n",
       "\n",
       "    .dataframe thead th {\n",
       "        text-align: right;\n",
       "    }\n",
       "</style>\n",
       "<table border=\"1\" class=\"dataframe\">\n",
       "  <thead>\n",
       "    <tr style=\"text-align: right;\">\n",
       "      <th></th>\n",
       "      <th>BTC-USD Price</th>\n",
       "    </tr>\n",
       "  </thead>\n",
       "  <tbody>\n",
       "    <tr>\n",
       "      <th>2365</th>\n",
       "      <td>61243.085940</td>\n",
       "    </tr>\n",
       "    <tr>\n",
       "      <th>2366</th>\n",
       "      <td>59302.316410</td>\n",
       "    </tr>\n",
       "    <tr>\n",
       "      <th>2384</th>\n",
       "      <td>59095.808590</td>\n",
       "    </tr>\n",
       "    <tr>\n",
       "      <th>2383</th>\n",
       "      <td>58918.832030</td>\n",
       "    </tr>\n",
       "    <tr>\n",
       "      <th>2382</th>\n",
       "      <td>58917.691410</td>\n",
       "    </tr>\n",
       "    <tr>\n",
       "      <th>...</th>\n",
       "      <td>...</td>\n",
       "    </tr>\n",
       "    <tr>\n",
       "      <th>123</th>\n",
       "      <td>210.339004</td>\n",
       "    </tr>\n",
       "    <tr>\n",
       "      <th>120</th>\n",
       "      <td>209.843994</td>\n",
       "    </tr>\n",
       "    <tr>\n",
       "      <th>121</th>\n",
       "      <td>208.097000</td>\n",
       "    </tr>\n",
       "    <tr>\n",
       "      <th>122</th>\n",
       "      <td>199.259995</td>\n",
       "    </tr>\n",
       "    <tr>\n",
       "      <th>119</th>\n",
       "      <td>178.102997</td>\n",
       "    </tr>\n",
       "  </tbody>\n",
       "</table>\n",
       "<p>2385 rows × 1 columns</p>\n",
       "</div>"
      ],
      "text/plain": [
       "      BTC-USD Price\n",
       "2365   61243.085940\n",
       "2366   59302.316410\n",
       "2384   59095.808590\n",
       "2383   58918.832030\n",
       "2382   58917.691410\n",
       "...             ...\n",
       "123      210.339004\n",
       "120      209.843994\n",
       "121      208.097000\n",
       "122      199.259995\n",
       "119      178.102997\n",
       "\n",
       "[2385 rows x 1 columns]"
      ]
     },
     "execution_count": 52,
     "metadata": {},
     "output_type": "execute_result"
    }
   ],
   "source": [
    "df"
   ]
  },
  {
   "cell_type": "markdown",
   "id": "23a438d8",
   "metadata": {},
   "source": [
    "Perform Math Operations On Pandas Series"
   ]
  },
  {
   "cell_type": "code",
   "execution_count": 53,
   "id": "c072bd40",
   "metadata": {},
   "outputs": [
    {
     "data": {
      "text/plain": [
       "BTC-USD Price    1.543538e+07\n",
       "dtype: float64"
      ]
     },
     "execution_count": 53,
     "metadata": {},
     "output_type": "execute_result"
    }
   ],
   "source": [
    "df.sum()"
   ]
  },
  {
   "cell_type": "code",
   "execution_count": 54,
   "id": "ff1da499",
   "metadata": {},
   "outputs": [
    {
     "data": {
      "text/plain": [
       "BTC-USD Price    2385\n",
       "dtype: int64"
      ]
     },
     "execution_count": 54,
     "metadata": {},
     "output_type": "execute_result"
    }
   ],
   "source": [
    "df.count()"
   ]
  },
  {
   "cell_type": "code",
   "execution_count": 55,
   "id": "f643bfe2",
   "metadata": {},
   "outputs": [
    {
     "data": {
      "text/html": [
       "<div>\n",
       "<style scoped>\n",
       "    .dataframe tbody tr th:only-of-type {\n",
       "        vertical-align: middle;\n",
       "    }\n",
       "\n",
       "    .dataframe tbody tr th {\n",
       "        vertical-align: top;\n",
       "    }\n",
       "\n",
       "    .dataframe thead th {\n",
       "        text-align: right;\n",
       "    }\n",
       "</style>\n",
       "<table border=\"1\" class=\"dataframe\">\n",
       "  <thead>\n",
       "    <tr style=\"text-align: right;\">\n",
       "      <th></th>\n",
       "      <th>BTC-USD Price</th>\n",
       "    </tr>\n",
       "  </thead>\n",
       "  <tbody>\n",
       "    <tr>\n",
       "      <th>count</th>\n",
       "      <td>2385.000000</td>\n",
       "    </tr>\n",
       "    <tr>\n",
       "      <th>mean</th>\n",
       "      <td>6471.857333</td>\n",
       "    </tr>\n",
       "    <tr>\n",
       "      <th>std</th>\n",
       "      <td>9289.022505</td>\n",
       "    </tr>\n",
       "    <tr>\n",
       "      <th>min</th>\n",
       "      <td>178.102997</td>\n",
       "    </tr>\n",
       "    <tr>\n",
       "      <th>25%</th>\n",
       "      <td>454.618988</td>\n",
       "    </tr>\n",
       "    <tr>\n",
       "      <th>50%</th>\n",
       "      <td>4076.632568</td>\n",
       "    </tr>\n",
       "    <tr>\n",
       "      <th>75%</th>\n",
       "      <td>8864.766602</td>\n",
       "    </tr>\n",
       "    <tr>\n",
       "      <th>max</th>\n",
       "      <td>61243.085940</td>\n",
       "    </tr>\n",
       "  </tbody>\n",
       "</table>\n",
       "</div>"
      ],
      "text/plain": [
       "       BTC-USD Price\n",
       "count    2385.000000\n",
       "mean     6471.857333\n",
       "std      9289.022505\n",
       "min       178.102997\n",
       "25%       454.618988\n",
       "50%      4076.632568\n",
       "75%      8864.766602\n",
       "max     61243.085940"
      ]
     },
     "execution_count": 55,
     "metadata": {},
     "output_type": "execute_result"
    }
   ],
   "source": [
    "df.describe()"
   ]
  },
  {
   "cell_type": "code",
   "execution_count": 57,
   "id": "634655e0",
   "metadata": {},
   "outputs": [],
   "source": [
    "x= df.sum()/df.count()"
   ]
  },
  {
   "cell_type": "code",
   "execution_count": 58,
   "id": "16c1c0a7",
   "metadata": {},
   "outputs": [
    {
     "data": {
      "text/plain": [
       "BTC-USD Price    6471.857333\n",
       "dtype: float64"
      ]
     },
     "execution_count": 58,
     "metadata": {},
     "output_type": "execute_result"
    }
   ],
   "source": [
    "x"
   ]
  },
  {
   "cell_type": "markdown",
   "id": "e6dbce30",
   "metadata": {},
   "source": [
    "CHECK IF A GIVEN ELEMENT EXISTS IN A PANDAS SERIES"
   ]
  },
  {
   "cell_type": "code",
   "execution_count": null,
   "id": "1cd7417b",
   "metadata": {},
   "outputs": [],
   "source": []
  }
 ],
 "metadata": {
  "kernelspec": {
   "display_name": "Python 3 (ipykernel)",
   "language": "python",
   "name": "python3"
  },
  "language_info": {
   "codemirror_mode": {
    "name": "ipython",
    "version": 3
   },
   "file_extension": ".py",
   "mimetype": "text/x-python",
   "name": "python",
   "nbconvert_exporter": "python",
   "pygments_lexer": "ipython3",
   "version": "3.9.13"
  }
 },
 "nbformat": 4,
 "nbformat_minor": 5
}
